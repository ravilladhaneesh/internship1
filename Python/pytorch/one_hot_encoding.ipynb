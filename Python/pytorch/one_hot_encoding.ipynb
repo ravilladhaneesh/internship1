{
 "cells": [
  {
   "cell_type": "code",
   "execution_count": 42,
   "id": "81d644f8",
   "metadata": {},
   "outputs": [],
   "source": [
    "import torch"
   ]
  },
  {
   "cell_type": "code",
   "execution_count": 70,
   "id": "4e56d3ca",
   "metadata": {
    "collapsed": true
   },
   "outputs": [
    {
     "name": "stdout",
     "output_type": "stream",
     "text": [
      "tensor([[0, 1, 0, 0],\n",
      "        [0, 0, 1, 0],\n",
      "        [0, 0, 0, 1],\n",
      "        [0, 0, 0, 1]])\n",
      "\n",
      "tensor([[0, 1, 0, 0, 0, 0, 0, 0, 0, 0],\n",
      "        [0, 0, 0, 0, 0, 1, 0, 0, 0, 0],\n",
      "        [0, 0, 0, 0, 0, 0, 0, 1, 0, 0],\n",
      "        [0, 0, 0, 0, 0, 0, 0, 0, 1, 0],\n",
      "        [0, 0, 0, 0, 0, 0, 0, 0, 0, 1]])\n"
     ]
    }
   ],
   "source": [
    "data = [1,2,3,3]\n",
    "\n",
    "t = torch.tensor(data)\n",
    "\n",
    "\n",
    "### cannot be able to create a tensor for string objects\n",
    "\n",
    "one_hot = torch.nn.functional.one_hot(t,num_classes=-1) #return a np.shape rows and 0-max(data) index columns\n",
    "\n",
    "print(one_hot)\n",
    "\n",
    "print()\n",
    "\n",
    "d = [1,5,7,8,9]\n",
    "\n",
    "tt = torch.tensor(d)\n",
    "\n",
    "one = torch.nn.functional.one_hot(tt,num_classes=-1)\n",
    "\n",
    "print(one)\n"
   ]
  },
  {
   "cell_type": "markdown",
   "id": "27f084d1",
   "metadata": {},
   "source": [
    "# manually creating one_hot_encoding"
   ]
  },
  {
   "cell_type": "code",
   "execution_count": 107,
   "id": "99941792",
   "metadata": {
    "collapsed": true
   },
   "outputs": [
    {
     "name": "stdout",
     "output_type": "stream",
     "text": [
      "[[0. 1. 0.]\n",
      " [0. 1. 0.]\n",
      " [1. 0. 0.]\n",
      " [1. 0. 0.]\n",
      " [1. 0. 0.]\n",
      " [0. 1. 0.]\n",
      " [0. 1. 0.]\n",
      " [1. 0. 0.]\n",
      " [1. 0. 0.]\n",
      " [0. 0. 1.]\n",
      " [0. 0. 1.]]\n"
     ]
    }
   ],
   "source": [
    "import numpy as np\n",
    "\n",
    "target = np.array(['dog', 'dog', 'cat', 'cat', 'cat', 'dog', 'dog', \n",
    "    'cat', 'cat', 'hamster', 'hamster'])\n",
    "\n",
    "def one_hot(array):\n",
    "    unique, inverse = np.unique(array, return_inverse=True)\n",
    "    onehot = np.eye(unique.shape[0])[inverse] # eye similar to identity \n",
    "    return onehot\n",
    "\n",
    "print(one_hot(target))\n",
    "\n",
    "# unique, inverse = np.unique(target, return_inverse=True)\n",
    "# print(unique)\n",
    "# print()\n",
    "# print(inverse)\n",
    "# print()\n",
    "# one = np.eye(unique.shape[0])\n",
    "# print(one.shape)\n",
    "# print()\n",
    "# print(one)\n",
    "# print()\n",
    "# print(one[[1,2,1]])\n",
    "# print()\n",
    "# print(one[inverse].shape)\n"
   ]
  },
  {
   "cell_type": "code",
   "execution_count": null,
   "id": "5092306c",
   "metadata": {},
   "outputs": [],
   "source": []
  }
 ],
 "metadata": {
  "kernelspec": {
   "display_name": "Python 3 (ipykernel)",
   "language": "python",
   "name": "python3"
  },
  "language_info": {
   "codemirror_mode": {
    "name": "ipython",
    "version": 3
   },
   "file_extension": ".py",
   "mimetype": "text/x-python",
   "name": "python",
   "nbconvert_exporter": "python",
   "pygments_lexer": "ipython3",
   "version": "3.10.6"
  }
 },
 "nbformat": 4,
 "nbformat_minor": 5
}
