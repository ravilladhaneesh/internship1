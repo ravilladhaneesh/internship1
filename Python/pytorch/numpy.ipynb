{
 "cells": [
  {
   "cell_type": "code",
   "execution_count": 158,
   "id": "584ad65f",
   "metadata": {},
   "outputs": [],
   "source": [
    "import numpy as np"
   ]
  },
  {
   "cell_type": "code",
   "execution_count": 159,
   "id": "be57d03d",
   "metadata": {},
   "outputs": [
    {
     "data": {
      "text/plain": [
       "dtype('int32')"
      ]
     },
     "execution_count": 159,
     "metadata": {},
     "output_type": "execute_result"
    }
   ],
   "source": [
    "a = np.array([1,32,3],dtype = 'int32')\n",
    "b = np.array([[2,3,4,1],[2,3,4,5]],dtype = 'int32')\n",
    "\n",
    "c = np.array(10)\n",
    "c.shape\n",
    "b.dtype"
   ]
  },
  {
   "cell_type": "code",
   "execution_count": 160,
   "id": "3cea8cf1",
   "metadata": {},
   "outputs": [
    {
     "data": {
      "text/plain": [
       "array([ 10, 320,  30], dtype=int32)"
      ]
     },
     "execution_count": 160,
     "metadata": {},
     "output_type": "execute_result"
    }
   ],
   "source": [
    "ac = a*c\n",
    "ac"
   ]
  },
  {
   "cell_type": "code",
   "execution_count": 161,
   "id": "b8e4af65",
   "metadata": {},
   "outputs": [
    {
     "name": "stdout",
     "output_type": "stream",
     "text": [
      "12\n",
      "12\n"
     ]
    }
   ],
   "source": [
    "no_of_bytes = a.itemsize * a.size\n",
    "print(a.nbytes)\n",
    "print(no_of_bytes) #both are same"
   ]
  },
  {
   "cell_type": "markdown",
   "id": "483453e6",
   "metadata": {},
   "source": [
    "# indexing and modifying\n",
    "\n"
   ]
  },
  {
   "cell_type": "code",
   "execution_count": 162,
   "id": "538e86c2",
   "metadata": {
    "scrolled": true
   },
   "outputs": [
    {
     "name": "stdout",
     "output_type": "stream",
     "text": [
      "[[ 2  3  4 21]\n",
      " [23  2  7  8]\n",
      " [45  2  3 40]]\n"
     ]
    }
   ],
   "source": [
    "a = np.array([[2,3,4,21],[23,2,7,8],[45,2,3,40]])\n",
    "print(a)"
   ]
  },
  {
   "cell_type": "code",
   "execution_count": 163,
   "id": "9419e65a",
   "metadata": {},
   "outputs": [
    {
     "data": {
      "text/plain": [
       "2"
      ]
     },
     "execution_count": 163,
     "metadata": {},
     "output_type": "execute_result"
    }
   ],
   "source": [
    "a[2,1]"
   ]
  },
  {
   "cell_type": "code",
   "execution_count": 164,
   "id": "0c1062a3",
   "metadata": {},
   "outputs": [
    {
     "data": {
      "text/plain": [
       "array([23,  2,  7,  8])"
      ]
     },
     "execution_count": 164,
     "metadata": {},
     "output_type": "execute_result"
    }
   ],
   "source": [
    "#specific rows8\n",
    "a[1,]"
   ]
  },
  {
   "cell_type": "code",
   "execution_count": 165,
   "id": "08455b48",
   "metadata": {},
   "outputs": [
    {
     "data": {
      "text/plain": [
       "array([4, 7, 3])"
      ]
     },
     "execution_count": 165,
     "metadata": {},
     "output_type": "execute_result"
    }
   ],
   "source": [
    "#specific column\n",
    "a[:,2]"
   ]
  },
  {
   "cell_type": "code",
   "execution_count": 166,
   "id": "a8dd170c",
   "metadata": {},
   "outputs": [
    {
     "data": {
      "text/plain": [
       "array([[ 3, 21],\n",
       "       [ 2, 40]])"
      ]
     },
     "execution_count": 166,
     "metadata": {},
     "output_type": "execute_result"
    }
   ],
   "source": [
    "a[0::2,1::2]"
   ]
  },
  {
   "cell_type": "code",
   "execution_count": 168,
   "id": "8cb1db54",
   "metadata": {},
   "outputs": [
    {
     "name": "stdout",
     "output_type": "stream",
     "text": [
      "[[22  3 22  1]\n",
      " [ 2  3  4  5]]\n"
     ]
    }
   ],
   "source": [
    "b[0,0::2] = [22,22]\n",
    "print(b)"
   ]
  },
  {
   "cell_type": "markdown",
   "id": "5e004406",
   "metadata": {},
   "source": [
    "# three dimensions"
   ]
  },
  {
   "cell_type": "code",
   "execution_count": 177,
   "id": "09380314",
   "metadata": {},
   "outputs": [
    {
     "name": "stdout",
     "output_type": "stream",
     "text": [
      "[[[1 2 3]\n",
      "  [4 5 6]]\n",
      "\n",
      " [[1 2 4]\n",
      "  [5 6 7]]]\n"
     ]
    }
   ],
   "source": [
    "t = np.array([[[1,2,3],[4,5,6]],[[1,2,4],[5,6,7]]])\n",
    "print(t)"
   ]
  },
  {
   "cell_type": "code",
   "execution_count": 186,
   "id": "32389f19",
   "metadata": {},
   "outputs": [
    {
     "data": {
      "text/plain": [
       "array([[1, 4],\n",
       "       [1, 5]])"
      ]
     },
     "execution_count": 186,
     "metadata": {},
     "output_type": "execute_result"
    }
   ],
   "source": [
    "t[:,:,0]"
   ]
  },
  {
   "cell_type": "code",
   "execution_count": 190,
   "id": "d16af2c6",
   "metadata": {},
   "outputs": [
    {
     "data": {
      "text/plain": [
       "array([[[ 1,  2, 99],\n",
       "        [ 4,  5, 99]],\n",
       "\n",
       "       [[ 1,  2,  4],\n",
       "        [ 5,  6,  7]]])"
      ]
     },
     "execution_count": 190,
     "metadata": {},
     "output_type": "execute_result"
    }
   ],
   "source": [
    "#replace\n",
    "\n",
    "t[0,:,2] = [99,99]\n",
    "t"
   ]
  },
  {
   "cell_type": "markdown",
   "id": "45b3915e",
   "metadata": {},
   "source": [
    "# different types of arrays"
   ]
  },
  {
   "cell_type": "code",
   "execution_count": 209,
   "id": "2a2a56a7",
   "metadata": {
    "collapsed": true
   },
   "outputs": [
    {
     "data": {
      "text/plain": [
       "array([[[0, 0],\n",
       "        [0, 0],\n",
       "        [0, 0]],\n",
       "\n",
       "       [[0, 0],\n",
       "        [0, 0],\n",
       "        [0, 0]],\n",
       "\n",
       "       [[0, 0],\n",
       "        [0, 0],\n",
       "        [0, 0]]], dtype=int16)"
      ]
     },
     "execution_count": 209,
     "metadata": {},
     "output_type": "execute_result"
    }
   ],
   "source": [
    "#zeroes matrix\n",
    "np.zeros((3,3,2),dtype='int16')"
   ]
  },
  {
   "cell_type": "code",
   "execution_count": 210,
   "id": "635fb7cd",
   "metadata": {},
   "outputs": [
    {
     "data": {
      "text/plain": [
       "array([[1, 1],\n",
       "       [1, 1],\n",
       "       [1, 1]], dtype=int32)"
      ]
     },
     "execution_count": 210,
     "metadata": {},
     "output_type": "execute_result"
    }
   ],
   "source": [
    "#ones matrix\n",
    "np.ones((3,2),dtype='int32')"
   ]
  },
  {
   "cell_type": "code",
   "execution_count": 214,
   "id": "5d4d7d0c",
   "metadata": {
    "collapsed": true
   },
   "outputs": [
    {
     "data": {
      "text/plain": [
       "array([[[100, 100],\n",
       "        [100, 100],\n",
       "        [100, 100]],\n",
       "\n",
       "       [[100, 100],\n",
       "        [100, 100],\n",
       "        [100, 100]],\n",
       "\n",
       "       [[100, 100],\n",
       "        [100, 100],\n",
       "        [100, 100]]])"
      ]
     },
     "execution_count": 214,
     "metadata": {},
     "output_type": "execute_result"
    }
   ],
   "source": [
    "np.full((3,3,2),100)"
   ]
  },
  {
   "cell_type": "code",
   "execution_count": 239,
   "id": "6ab03b94",
   "metadata": {
    "collapsed": true
   },
   "outputs": [
    {
     "name": "stdout",
     "output_type": "stream",
     "text": [
      "15\n",
      "[[ 9 14]\n",
      " [19  8]\n",
      " [19  4]]\n"
     ]
    }
   ],
   "source": [
    "#returns scalar value\n",
    "print(np.random.randint(4,20))\n",
    "\n",
    "#returns a matrix\n",
    "print(np.random.randint(4,20,size=(3,2)))"
   ]
  },
  {
   "cell_type": "code",
   "execution_count": 242,
   "id": "8c518af5",
   "metadata": {
    "collapsed": true
   },
   "outputs": [
    {
     "data": {
      "text/plain": [
       "array([[1, 0, 0],\n",
       "       [0, 1, 0],\n",
       "       [0, 0, 1]], dtype=int16)"
      ]
     },
     "execution_count": 242,
     "metadata": {},
     "output_type": "execute_result"
    }
   ],
   "source": [
    "np.identity(3,dtype='int16')"
   ]
  },
  {
   "cell_type": "code",
   "execution_count": 296,
   "id": "a95ba617",
   "metadata": {},
   "outputs": [
    {
     "name": "stdout",
     "output_type": "stream",
     "text": [
      "(2, 3)\n",
      "[[1 2 3]\n",
      " [1 2 3]\n",
      " [1 2 3]\n",
      " [3 4 5]\n",
      " [3 4 5]\n",
      " [3 4 5]]\n"
     ]
    }
   ],
   "source": [
    "#repeat\n",
    "arr = np.array([[1,2,3],[3,4,5]])\n",
    "print(arr.shape)\n",
    "r = np.repeat(arr,3,axis=0)\n",
    "print(r)\n"
   ]
  },
  {
   "cell_type": "code",
   "execution_count": 259,
   "id": "164b97ae",
   "metadata": {},
   "outputs": [
    {
     "name": "stdout",
     "output_type": "stream",
     "text": [
      "[[1. 1. 1. 1. 1.]\n",
      " [1. 0. 0. 0. 1.]\n",
      " [1. 0. 9. 0. 1.]\n",
      " [1. 0. 0. 0. 1.]\n",
      " [1. 1. 1. 1. 1.]]\n"
     ]
    }
   ],
   "source": [
    "#sample task\n",
    "a1 = np.ones((5,5))\n",
    "b1 = np.zeros((3,3))\n",
    "b1[1,1] = 9\n",
    "a1[1:4,1:4]= b1\n",
    "print(a1)"
   ]
  },
  {
   "cell_type": "markdown",
   "id": "f018d075",
   "metadata": {},
   "source": [
    "### copy"
   ]
  },
  {
   "cell_type": "code",
   "execution_count": 265,
   "id": "2c0fb9af",
   "metadata": {},
   "outputs": [
    {
     "name": "stdout",
     "output_type": "stream",
     "text": [
      "[1 2 3 4]\n",
      "[100   2   3   4]\n"
     ]
    }
   ],
   "source": [
    "a = np.array([1,2,3,4])\n",
    "b = a.copy()\n",
    "b[0]=100\n",
    "print(a)\n",
    "print(b)"
   ]
  },
  {
   "cell_type": "code",
   "execution_count": 272,
   "id": "cde4ce17",
   "metadata": {},
   "outputs": [
    {
     "data": {
      "text/plain": [
       "array([ 0.84147098,  0.90929743,  0.14112001, -0.7568025 ])"
      ]
     },
     "execution_count": 272,
     "metadata": {},
     "output_type": "execute_result"
    }
   ],
   "source": [
    "np.sin(a)"
   ]
  },
  {
   "cell_type": "markdown",
   "id": "b99d940e",
   "metadata": {},
   "source": [
    "# linear algebra"
   ]
  },
  {
   "cell_type": "code",
   "execution_count": 293,
   "id": "4eabbaff",
   "metadata": {},
   "outputs": [
    {
     "name": "stdout",
     "output_type": "stream",
     "text": [
      "[[ 10  15  66]\n",
      " [ 14  21 106]\n",
      " [ 50  75 177]]\n",
      "5.435651928564778e-12\n"
     ]
    }
   ],
   "source": [
    "#mat mul\n",
    "a = np.array([[2,3],[2,5],[19,6]])\n",
    "b = np.array([[2,3,3],[2,3,20]])\n",
    "c = np.matmul(a,b)\n",
    "\n",
    "print(c)\n",
    "print(np.linalg.det(c))"
   ]
  },
  {
   "cell_type": "markdown",
   "id": "468d6822",
   "metadata": {},
   "source": [
    "# statistics\n"
   ]
  },
  {
   "cell_type": "markdown",
   "id": "0b6611e6",
   "metadata": {},
   "source": [
    "# axis "
   ]
  },
  {
   "cell_type": "code",
   "execution_count": 313,
   "id": "eed9f018",
   "metadata": {
    "collapsed": true
   },
   "outputs": [
    {
     "name": "stdout",
     "output_type": "stream",
     "text": [
      "axis = 0 ------------------------>\n",
      "axis =1 \n",
      "        |\n",
      "        |\n",
      "        |\n",
      "        |\n",
      "        |\n",
      "        |\n",
      "        |\n",
      "        V\n"
     ]
    }
   ],
   "source": [
    "print(\"axis = 0 ------------------------>\")\n",
    "print(\"axis =1 \")\n",
    "print(\"        |\")\n",
    "print(\"        |\")\n",
    "print(\"        |\")\n",
    "print(\"        |\")\n",
    "print(\"        |\")\n",
    "print(\"        |\")\n",
    "print(\"        |\")\n",
    "print(\"        V\")\n"
   ]
  },
  {
   "cell_type": "code",
   "execution_count": 314,
   "id": "cbf74d32",
   "metadata": {},
   "outputs": [
    {
     "name": "stdout",
     "output_type": "stream",
     "text": [
      "[[ 2  3]\n",
      " [ 2  5]\n",
      " [19  6]]\n",
      "max\n",
      "[ 3  5 19]\n",
      "min\n",
      "[2 3]\n"
     ]
    }
   ],
   "source": [
    "\n",
    "print(a)\n",
    "\n",
    "print(\"max\")\n",
    "print(np.max(a,axis=1))\n",
    "print(\"min\")\n",
    "print(np.min(a,axis=0))"
   ]
  },
  {
   "cell_type": "code",
   "execution_count": 307,
   "id": "b0e6608a",
   "metadata": {},
   "outputs": [
    {
     "name": "stdout",
     "output_type": "stream",
     "text": [
      "[ 5  7 25]\n"
     ]
    }
   ],
   "source": [
    "print(np.sum(a,axis=1))"
   ]
  },
  {
   "cell_type": "code",
   "execution_count": 325,
   "id": "e5dcf715",
   "metadata": {},
   "outputs": [
    {
     "name": "stdout",
     "output_type": "stream",
     "text": [
      "[[ 2  3  9]\n",
      " [22  7 23]\n",
      " [ 2  9  0]]\n"
     ]
    }
   ],
   "source": [
    "a = np.array([[2,3,9],[22,7,23],[2,9,0]])\n",
    "b = a.reshape((3,3))\n",
    "print(b)"
   ]
  },
  {
   "cell_type": "markdown",
   "id": "f81965e1",
   "metadata": {},
   "source": [
    "# vertical stack"
   ]
  },
  {
   "cell_type": "code",
   "execution_count": 330,
   "id": "286a9565",
   "metadata": {},
   "outputs": [
    {
     "data": {
      "text/plain": [
       "array([1, 2, 3, 4, 4, 5, 6, 7, 4, 5, 6, 7, 4, 5, 6, 7, 4, 5, 6, 7])"
      ]
     },
     "execution_count": 330,
     "metadata": {},
     "output_type": "execute_result"
    }
   ],
   "source": [
    "a = np.array([1,2,3,4])\n",
    "b = np.array([4,5,6,7])\n",
    "\n",
    "np.hstack((a,b,b,b,b)) #vstack"
   ]
  }
 ],
 "metadata": {
  "kernelspec": {
   "display_name": "Python 3 (ipykernel)",
   "language": "python",
   "name": "python3"
  },
  "language_info": {
   "codemirror_mode": {
    "name": "ipython",
    "version": 3
   },
   "file_extension": ".py",
   "mimetype": "text/x-python",
   "name": "python",
   "nbconvert_exporter": "python",
   "pygments_lexer": "ipython3",
   "version": "3.10.6"
  }
 },
 "nbformat": 4,
 "nbformat_minor": 5
}
